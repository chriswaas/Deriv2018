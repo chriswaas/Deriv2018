{
 "cells": [
  {
   "cell_type": "markdown",
   "metadata": {},
   "source": [
    "## Project Luis - Progressfile"
   ]
  },
  {
   "cell_type": "code",
   "execution_count": null,
   "metadata": {
    "collapsed": false
   },
   "outputs": [],
   "source": [
    "using Plots"
   ]
  },
  {
   "cell_type": "markdown",
   "metadata": {},
   "source": [
    "In this project, I'm trying to numerically solve the three equations:\n",
    "\\begin{align*}\n",
    "\\phi_{'tt} &= \\phi_{'xx} - \\beta^2 \\phi \\quad \\beta \\in \\mathbb{R} \\\\\n",
    "\\phi_{'tt} &= \\phi_{'xx} - \\beta^2 \\sin(\\phi) \\\\\n",
    "\\end{align*}\n",
    "with fixed boundaries on both ends.\n",
    "\n",
    "Up to now, I made two different approaches: separating the PDE into two ODEs and solving them and (since I haven't found a stable solution for that yet, lack understanding of what the conditions are) a second-order approximation of the second derivation given by\n",
    "\\begin{equation}\n",
    "f_n'' \\approx \\frac{f_{n+1}-2f_n+f_{n-1}}{h^2} + \\mathcal{O}(h^2)\n",
    "\\end{equation}\n",
    "where $h$ is the discrete step difference.\n",
    "\n",
    "When applying this approximation to both sides of the equation, this leads to\n",
    "\\begin{equation}\n",
    "\\phi_J^{n+1} = -\\phi_J^{n-1} + 2 \\phi_J^n(1-\\lambda^2)+\\lambda^2(\\phi_{J+1}^n+\\phi_{J-1}^n) -\\beta^2 \\underbrace{\\sin}_{\\text{optional}} \\phi_J^n\n",
    "\\end{equation}\n",
    "For the first few examples, $\\beta$ will be set to 0."
   ]
  },
  {
   "cell_type": "markdown",
   "metadata": {},
   "source": [
    "Let's start of by defining some functions.\n",
    "The first one is the initialization of the function we want to analyse. I implemented a Gaussian and a Sin, that both are equal to zero at the borders."
   ]
  },
  {
   "cell_type": "code",
   "execution_count": null,
   "metadata": {
    "collapsed": true
   },
   "outputs": [],
   "source": [
    "function initial(Nx::Int)\n",
    "    x=zeros(Nx)\n",
    "    h=10/(Nx-1)\n",
    "    for i in 1:Nx\n",
    "        x[i] = (i-1)*h\n",
    "    end\n",
    "    un=zeros(Nx)\n",
    "    uo=zeros(Nx)\n",
    "    ##initialize\n",
    "    for i in 1:Nx\n",
    "        uo[i] = exp(-(x[i]-5)^2) - exp(-25)\n",
    "    end\n",
    "    return uo, x, h\n",
    "end;\n",
    "\n",
    "function initialTriang(Nx::Int)\n",
    "   x=zeros(Nx)\n",
    "    h=10/(Nx-1)\n",
    "    for i in 1:Nx\n",
    "        x[i] = (i-1)*h\n",
    "    end\n",
    "    un=zeros(Nx)\n",
    "    uo=zeros(Nx)\n",
    "    ##initialize\n",
    "    for i in 1:floor(Int, Nx/2)\n",
    "        uo[i] = 1/x[floor(Int, Nx/2)]*x[i]\n",
    "    end\n",
    "    for i in floor(Int, Nx/2):Nx\n",
    "        uo[i] = 1+(-1/(x[end]-x[floor(Int, Nx/2)]))*(x[i]-x[floor(Int, Nx/2)])\n",
    "    end\n",
    "    return uo, x, h \n",
    "end;\n",
    "\n",
    "function initialSin(Nx::Int)\n",
    "   x=zeros(Nx)\n",
    "    h=2*pi/(Nx-1)\n",
    "    for i in 1:Nx\n",
    "        x[i] = (i-1)*h\n",
    "    end\n",
    "    un=zeros(Nx)\n",
    "    uo=zeros(Nx)\n",
    "    ##initialize\n",
    "    for i in 1:Nx\n",
    "        uo[i] = sin(x[i])\n",
    "    end\n",
    "    return uo, x, h \n",
    "end;"
   ]
  },
  {
   "cell_type": "code",
   "execution_count": null,
   "metadata": {
    "collapsed": false
   },
   "outputs": [],
   "source": [
    "plot(initial(101)[2], initial(101)[1])"
   ]
  },
  {
   "cell_type": "markdown",
   "metadata": {},
   "source": [
    "Next, the function $convergence$ calculates the order of accuracy. Taking the log2 of the output results in at least the order of discrete space steps that was neglected, just as discussed in the lecture.\n",
    "The expected outcome for a second order approximation therefore is 4."
   ]
  },
  {
   "cell_type": "code",
   "execution_count": null,
   "metadata": {
    "collapsed": false
   },
   "outputs": [],
   "source": [
    "function convergence(Nx::Int, Nt::Int, lambda::Float64, beta::Float64, boundary::String, f::Function)\n",
    "    n=zeros(Nx)\n",
    "    d=zeros(Nx)\n",
    "    results = zeros(Nt)\n",
    "    zv1 = evaluateWaveBeta(Nx,Nt, lambda, beta, boundary, f)[1][end,:]\n",
    "    zv2 = evaluateWaveBeta(2*Nx-1,2*Nt-1, lambda, beta, boundary, f)[1][end,:]\n",
    "    zv3 = evaluateWaveBeta(4*Nx-3,4*Nt-3, lambda, beta, boundary, f)[1][end,:]\n",
    "    for j in 1:Nx #since h=10/(Nx-1), we see h/2=10/((2*Nx-1)-1) and h/4=10/((4*Nx-3)-1)\n",
    "        n[j] = (zv1[j]-zv2[2*j-1])^2\n",
    "        d[j] = (zv2[2*j-1]-zv3[4*j-3])^2\n",
    "    end\n",
    "    x=0:10/(Nx-1):10\n",
    "    p = plot(x, n)\n",
    "    plot!(x, d)\n",
    "    result = sqrt(sum(n))/sqrt(sum(d))\n",
    "    return result\n",
    "end;"
   ]
  },
  {
   "cell_type": "markdown",
   "metadata": {},
   "source": [
    "Next, this function takes a 2D array and creates a GIF of the stored values with one image per line."
   ]
  },
  {
   "cell_type": "code",
   "execution_count": null,
   "metadata": {
    "collapsed": false
   },
   "outputs": [],
   "source": [
    "function createGIF(store::Array{Float64, 2}, x::Array{Float64, 1}, filename::String, fpss::Int)\n",
    "    anim = @animate for i in 1:length(store[:,1])\n",
    "        a, b = maximum(store), minimum(store)\n",
    "        if a > 10 || b < -10\n",
    "            throw(DomainError(max(a, abs(b)), \"Values blow up, solution is unstable\"))\n",
    "        else\n",
    "            plot(x, store[i,:], ylims = (minimum(store),maximum(store)), xlims = (x[1],x[end]), leg=false)\n",
    "        end\n",
    "    end\n",
    "    # IMPORTANT\n",
    "    #\n",
    "    #\n",
    "    #\n",
    "    # This is not elegant, but in order to use this function, you have to specify the location where the GIF should \n",
    "    # be stored. Since there are a lot of pictures that are stored, I decided to take the temporary folder.\n",
    "    #\n",
    "    #\n",
    "    #\n",
    "    \n",
    "    #######################    \n",
    "    fil = \"C:/Users/Christopher/Application Data/Local/Temp/\"*filename*\".gif\" \n",
    "    return gif(anim, fil, fps=fpss)\n",
    "end;"
   ]
  },
  {
   "cell_type": "code",
   "execution_count": null,
   "metadata": {
    "collapsed": false
   },
   "outputs": [],
   "source": [
    "l = @layout [a{0.1w} b{0.9w}];\n",
    "#plot([[4], [1,2,3]],[[4], [1,2,3]], t = [:scatter :line], markersize =15, xlims=[(3,5) (1,3)], xticks=[nothing :none],layout = l, leg = false)"
   ]
  },
  {
   "cell_type": "code",
   "execution_count": null,
   "metadata": {
    "collapsed": false
   },
   "outputs": [],
   "source": [
    "function createGIFEnergy(store::Array{Float64, 2}, x::Array{Float64, 1}, energy::Array{Float64 ,1}, filename::String, fpss::Int)\n",
    "    anim = @animate for i in 1:length(store[:,1])\n",
    "        l = @layout [a{0.1w} b{0.9w}]\n",
    "        plot([[0], x], [[energy[i]] ,store[i,:]], ylims = [(minimum(energy)-1, maximum(energy)+1) (minimum(store),maximum(store))], \n",
    "        xlims = [(-1,1) (x[1],x[end])], leg=false, t = [:scatter :line], xticks=[nothing :none],layout = l)\n",
    "    end\n",
    "    fil = \"C:/Users/Christopher/Application Data/Local/Temp/\"*filename*\".gif\" \n",
    "    return gif(anim, fil, fps=fpss)\n",
    "end;"
   ]
  },
  {
   "cell_type": "markdown",
   "metadata": {
    "collapsed": true
   },
   "source": [
    "Okay, now we are set up to look at equations. The following function solves the wave equation with the second order second derivative approximation mentioned above. For details, look at the comments in the code. It returns a $Nt \\times Nx$-array that contains all values for each time step.\n",
    "\n",
    "There is still a slight problem for the first iteration, because the values of the timestep $-1$ would be needed:\n",
    "\\begin{equation}\n",
    "\\phi_J^{1} = -\\phi_J^{-1} + 2 \\phi_J^0(1-\\lambda^2)+\\lambda^2(\\phi_{J+1}^0+\\phi_{J-1}^0) -\\beta^2 \\underbrace{\\sin}_{\\text{optional}} \\phi_J^0\n",
    "\\end{equation}\n",
    "This is why I use a Taylor approximation here. The jumps between continous and discrete notation might be a bit sloppy here but I think it's the nicest way to argue. $v_0 $ is the discrete equivalent of the initial time derivative $\\phi_{'t}$. \n",
    "\n",
    "\\begin{align*}\n",
    "\\phi_J^1 &= \\phi(x, \\Delta t) = \\phi(x,0) + \\Delta t \\phi_{'t}(x,0) + \\frac{\\Delta t^2}{2} \\overbrace{\\phi_{'tt}(x,0)}^{=\\phi_{'xx}(x,0)- \\beta^2 \\phi(x,0)} \\\\\n",
    "&= \\phi_j^0 + \\Delta t v_J + \\frac{\\Delta t^2}{2} \\frac{\\phi_{J+1}^0-2\\phi_J^0+\\phi_{J-1}^0}{\\Delta x^2} - \\frac{\\Delta t^2}{2} \\beta^2 \\phi_J^0 \\\\\n",
    "&=\\frac{1}{2} \\lambda^2(\\phi_{J+1}^0+\\phi_{J-1}^0) +(1-\\lambda^2)\\phi_J^0+\\Delta t v_J - \\frac{\\Delta t^2}{2} \\beta^2 \\phi_J^0\n",
    "\\end{align*}\n",
    "\n",
    "In the case of the $\\sin$ term, the $\\phi$ in the last addend has to be the argument of the sine in the last two lines and the overbracket."
   ]
  },
  {
   "cell_type": "code",
   "execution_count": null,
   "metadata": {
    "collapsed": false
   },
   "outputs": [],
   "source": [
    "function evaluateWaveBeta(Nx::Int, Nt::Int, lambda::Float64, beta::Float64, boundary::String, f::Function)\n",
    "    store = zeros(Nt, Nx)\n",
    "    energies = zeros(Nt)\n",
    "    #INIT\n",
    "    #\n",
    "    # For the initialization, the initial pulse (t=0) is stored in pvo. The first timestep is stored in po (t=1).\n",
    "    #\n",
    "    pn = zeros(Nx) #contains the new calculated values of ϕ\n",
    "    po = zeros(Nx) #contains the previous values of ϕ\n",
    "    \n",
    "    #time-based boundaries ϕ(x, t=0) and ϕ'(x, t=0)\n",
    "    pvo, x, deltax = initial(Nx) #pvo contains the second to last calculated values of ϕ \n",
    "    v0 = zeros(Nx) #initial time derivate ϕ_{'t}\n",
    "    deltat = lambda*deltax\n",
    "    for i in 2:Nx-1\n",
    "        po[i] = 0.5*lambda^2*(pvo[i-1]+pvo[i+1])+(1-lambda^2)*pvo[i]+deltat*v0[i]-deltat^2*beta^2/2*f(pvo[i])  \n",
    "        #                                                                         from the added term    \n",
    "    end\n",
    "    #initial spatial boundaries\n",
    "    po[1] = 0\n",
    "    po[end] = 0\n",
    "    ##update\n",
    "    for j in 1:Nt \n",
    "        #update f and g with FTCS\n",
    "        for i in 2:Nx-1\n",
    "            pn[i] = -pvo[i] + 2*po[i]*(1-lambda^2) + lambda^2 * (po[i+1]+po[i-1])-deltat^2*beta^2*f(po[i])\n",
    "        end\n",
    "        #boundaries\n",
    "        if boundary == \"fixed\"\n",
    "            pn[1] = 0\n",
    "            pn[end] = 0\n",
    "            elseif boundary == \"reflect\"\n",
    "            pn[1] = -pvo[1] + 2*po[1]+2*lambda^2*(po[2]-po[1])\n",
    "            pn[end] = -pvo[end] + 2*po[end]+2*lambda^2*(po[end-1]-po[end])\n",
    "        end\n",
    "        #plot and store\n",
    "        plot(x, pvo, ylims = (-1,1), xlims = (x[1],x[end]), leg=false)\n",
    "        store[j,:] = pvo\n",
    "        #work in progress, didn't figure out yet how to get the energy\n",
    "        for i in 2:Nx-1\n",
    "            energies[j] += (pvo[i-1]-2pvo[i]+pvo[i+1])/deltax^2\n",
    "        end\n",
    "        #shift values \n",
    "        pvo .= po\n",
    "        po .= pn\n",
    "    end\n",
    "    return store, x\n",
    "    end;"
   ]
  },
  {
   "cell_type": "markdown",
   "metadata": {},
   "source": [
    "Here just a first plot for the normal wave equation ($\\beta = 0$) with 101 space points and 200 timesteps. For reasons explained down below, $\\lambda = 0.99$."
   ]
  },
  {
   "cell_type": "code",
   "execution_count": null,
   "metadata": {
    "collapsed": false
   },
   "outputs": [],
   "source": [
    "wave = evaluateWaveBeta(101, 200, .99, 0., \"fixed\", identity);"
   ]
  },
  {
   "cell_type": "code",
   "execution_count": null,
   "metadata": {
    "collapsed": false
   },
   "outputs": [],
   "source": [
    "createGIF(wave[1], wave[2], \"WaveSecond\", 10)"
   ]
  },
  {
   "cell_type": "markdown",
   "metadata": {},
   "source": [
    "This looks just how it should look like, the initial peak splits up in one peak moving to the left and one moving to the right. Furthermore, the boundaries are fixed to 0, so the wave flips when hitting it.\n",
    "\n",
    "Now let's have a look at the convergence:\n",
    "When stepping $\\lambda$ from 0.1 to 1.2 with a stepsize of 0.1, one notices that the desired result is only achieved for $\\lambda < 1$."
   ]
  },
  {
   "cell_type": "code",
   "execution_count": null,
   "metadata": {
    "collapsed": false
   },
   "outputs": [],
   "source": [
    "for lambda in 1:12\n",
    "    println(\"λ = \",  lambda/10, \": \", convergence(201, 100, lambda/10, 0., \"fixed\", identity))\n",
    "end"
   ]
  },
  {
   "cell_type": "markdown",
   "metadata": {},
   "source": [
    "Apparently, the convergence just returns the desired results if $\\lambda = \\frac{\\Delta t}{\\Delta x} < 1$. This suggests that longtime stable solutions are only possible for these values. Let's check this for Nt = 10000."
   ]
  },
  {
   "cell_type": "code",
   "execution_count": null,
   "metadata": {
    "collapsed": false,
    "scrolled": false
   },
   "outputs": [],
   "source": [
    "println(\"λ = 0.999: \", maximum(evaluateWaveBeta(51, 10000, 1 - 1e-3, 0., \"fixed\", identity)[1][end-1000:end, :]))\n",
    "println(\"λ = 1: \", maximum(evaluateWaveBeta(51, 10000, 1., 0., \"fixed\", identity)[1][end-1000:end, :]))\n",
    "println(\"λ = 1.001: \", maximum(evaluateWaveBeta(51, 10000, 1 + 1e-3, 0., \"fixed\", identity)[1][end-1000:end, :]))"
   ]
  },
  {
   "cell_type": "markdown",
   "metadata": {},
   "source": [
    "This clearly shows that the solution blows up for $\\lambda >1$. For $\\lambda = 1$, the solution still is stable, but as the convergence calculation suggests, it is not precise up to the second order.\n",
    "\n",
    "I showed the reason for that on paper like we did in class, using the Laplace-Fourier-Transform to receive\n",
    "\\begin{equation*}\n",
    "\\phi_J^n = S^n e^{ikJh}\n",
    "\\end{equation*}\n",
    "with $h$ being the spacing in the spatial dimension and the condition that $|S|\\leq 1$ for a stable solution. "
   ]
  },
  {
   "cell_type": "markdown",
   "metadata": {},
   "source": [
    "## Part 2"
   ]
  },
  {
   "cell_type": "markdown",
   "metadata": {},
   "source": [
    "In the following we take a look at $\\phi_{'tt} = \\phi_{'xx} - \\beta^2 \\underbrace{\\sin}_{\\text{optional}} \\phi$. Just as a reminder, the formula for the calculation is:\n",
    "\n",
    "\\begin{equation}\n",
    "\\phi_J^{n+1} = -\\phi_J^{n-1} + 2 \\phi_J^n(1-\\lambda^2)+\\lambda^2(\\phi_{J+1}^n+\\phi_{J-1}^n) -\\beta^2 \\underbrace{\\sin}_{\\text{optional}} \\phi_J^n\n",
    "\\end{equation}"
   ]
  },
  {
   "cell_type": "code",
   "execution_count": null,
   "metadata": {
    "collapsed": false
   },
   "outputs": [],
   "source": [
    "solNew = evaluateWaveBeta(51, 200, 0.9, .5, \"reflect\", sin);"
   ]
  },
  {
   "cell_type": "code",
   "execution_count": null,
   "metadata": {
    "collapsed": false
   },
   "outputs": [],
   "source": [
    "createGIF(solNew[1], solNew[2], \"beta\", 30)"
   ]
  },
  {
   "cell_type": "code",
   "execution_count": null,
   "metadata": {
    "collapsed": false
   },
   "outputs": [],
   "source": [
    "convergence(101, 200, .9, 1., \"reflect\", sin)"
   ]
  },
  {
   "cell_type": "markdown",
   "metadata": {},
   "source": [
    "This is odd. The solution looks fine, the wave is reflected at the boundaries and with a bit of imagination you can see the sine oscillation. But although the interior of the region as well as the boundary condition is second order, the convergence leads to a first order accuracy. The reason could be the addend at the end, because for $\\beta=0$, everything is fine.\n",
    "\n",
    "For smaller values of $\\lambda$ however, the accuracy is second order again. I could not figure out a reason why this happens..."
   ]
  },
  {
   "cell_type": "code",
   "execution_count": null,
   "metadata": {
    "collapsed": false
   },
   "outputs": [],
   "source": [
    "println(convergence(101, 200, .9, 0., \"reflect\", sin)) #no addend at the end\n",
    "println(convergence(101, 200, .9, 1., \"reflect\", identity)) #sin replaced by identity (compared to cell above)\n",
    "println(convergence(101, 200, .1, 1., \"reflect\", sin)) #smaller lammbda (compared to cell above)"
   ]
  },
  {
   "cell_type": "code",
   "execution_count": null,
   "metadata": {
    "collapsed": false
   },
   "outputs": [],
   "source": [
    "sol2 = evaluateWaveBeta(101, 200, 0.9, .8, \"fixed\", identity)\n",
    "createGIF(sol2[1], sol2[2], \"beta2\", 30)"
   ]
  },
  {
   "cell_type": "code",
   "execution_count": null,
   "metadata": {
    "collapsed": false
   },
   "outputs": [],
   "source": [
    "l=.9\n",
    "b= 1.\n",
    "Nx=101\n",
    "convergence(Nx, 200, l, b, \"fixed\", identity)"
   ]
  },
  {
   "cell_type": "code",
   "execution_count": null,
   "metadata": {
    "collapsed": false
   },
   "outputs": [],
   "source": [
    "function ConvCheck(Nx, lam, beta)\n",
    "    deltax = 10/(Nx-1)\n",
    "    del = lam*deltax\n",
    "    m = 1-2*lam^2-del^2*beta^2/2 - sqrt(Complex(-4*lam^2-del^2*beta^2+4*lam^4+2*del^2*beta^2*lam^2+del^4*beta^4/4))\n",
    "    p = 1-2*lam^2-del^2*beta^2/2 + sqrt(Complex(-4*lam^2-del^2*beta^2+4*lam^4+2*del^2*beta^2*lam^2+del^4*beta^4/4))\n",
    "    max(abs(m),abs(p))\n",
    "end;\n",
    "ConvCheck(Nx, l, b)"
   ]
  },
  {
   "cell_type": "code",
   "execution_count": null,
   "metadata": {
    "collapsed": true
   },
   "outputs": [],
   "source": []
  }
 ],
 "metadata": {
  "anaconda-cloud": {},
  "kernelspec": {
   "display_name": "Julia 1.0.0",
   "language": "julia",
   "name": "julia-1.0"
  },
  "language_info": {
   "file_extension": ".jl",
   "mimetype": "application/julia",
   "name": "julia",
   "version": "1.0.0"
  }
 },
 "nbformat": 4,
 "nbformat_minor": 1
}
