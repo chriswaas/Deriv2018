{
 "cells": [
  {
   "cell_type": "markdown",
   "metadata": {},
   "source": [
    "## Differential Equation Solving First Notebook"
   ]
  },
  {
   "cell_type": "code",
   "execution_count": 1,
   "metadata": {
    "collapsed": true
   },
   "outputs": [],
   "source": [
    "using Plots"
   ]
  },
  {
   "cell_type": "markdown",
   "metadata": {},
   "source": [
    " Initialization of the grid and the function we want to solve numerically. Here we solve $\\phi_{'t}=\\phi_{'x}$."
   ]
  },
  {
   "cell_type": "code",
   "execution_count": 79,
   "metadata": {
    "collapsed": false
   },
   "outputs": [],
   "source": [
    "function initial(Nx::Int)\n",
    "    x=zeros(Nx)\n",
    "    h=10/(Nx-1)\n",
    "    for i in 1:Nx\n",
    "        x[i] = (i-1)*h\n",
    "    end\n",
    "    un=zeros(Nx)\n",
    "    uo=zeros(Nx)\n",
    "    ##initialize\n",
    "    for i in 1:Nx\n",
    "        uo[i] = exp(-(x[i]-5)^2) - exp(-25)\n",
    "    end\n",
    "    return uo, un, x, h\n",
    "end;\n",
    "\n",
    "function initialSin(Nx::Int)\n",
    "   x=zeros(Nx)\n",
    "    h=2*pi/(Nx-1)\n",
    "    for i in 1:Nx\n",
    "        x[i] = (i-1)*h\n",
    "    end\n",
    "    un=zeros(Nx)\n",
    "    uo=zeros(Nx)\n",
    "    ##initialize\n",
    "    for i in 1:Nx\n",
    "        uo[i] = sin(x[i])\n",
    "    end\n",
    "    return uo, un, x, h \n",
    "end;"
   ]
  },
  {
   "cell_type": "code",
   "execution_count": 22,
   "metadata": {
    "collapsed": false
   },
   "outputs": [
    {
     "data": {
      "text/plain": [
       "([0.0, 2.38595e-11, 8.66375e-11, 2.48414e-10, 6.56715e-10, 1.66595e-9, 4.10904e-9, 9.90087e-9, 2.33474e-8, 5.39184e-8  …  5.39184e-8, 2.33474e-8, 9.90087e-9, 4.10904e-9, 1.66595e-9, 6.56715e-10, 2.48414e-10, 8.66375e-11, 2.38595e-11, 0.0], [0.0, 0.0, 0.0, 0.0, 0.0, 0.0, 0.0, 0.0, 0.0, 0.0  …  0.0, 0.0, 0.0, 0.0, 0.0, 0.0, 0.0, 0.0, 0.0, 0.0], [0.0, 0.10101, 0.20202, 0.30303, 0.40404, 0.505051, 0.606061, 0.707071, 0.808081, 0.909091  …  9.09091, 9.19192, 9.29293, 9.39394, 9.49495, 9.59596, 9.69697, 9.79798, 9.89899, 10.0], 0.10101010101010101)"
      ]
     },
     "execution_count": 22,
     "metadata": {},
     "output_type": "execute_result"
    }
   ],
   "source": [
    "initial(100)"
   ]
  },
  {
   "cell_type": "markdown",
   "metadata": {},
   "source": [
    "The orders of the derivative operater that are implemented."
   ]
  },
  {
   "cell_type": "code",
   "execution_count": 3,
   "metadata": {
    "collapsed": false
   },
   "outputs": [],
   "source": [
    "function centeredDeriv(iter, lam, u)\n",
    "    if iter in 2:length(u)-1\n",
    "        return lam*(u[iter+1]-u[iter-1])/2\n",
    "    else\n",
    "        return 0\n",
    "    end\n",
    "end\n",
    "\n",
    "function rightDerivFor(iter, lam, u)\n",
    "    if iter in 1:length(u)-1\n",
    "        return lam*(u[iter+1]-u[iter])\n",
    "    else\n",
    "        return 0\n",
    "    end\n",
    "end;\n",
    "\n",
    "function rightDerivBack(iter, lam, u)\n",
    "    if iter in 2:length(u)\n",
    "        return lam*(u[iter]-u[iter-1])\n",
    "    else\n",
    "        return 0\n",
    "    end\n",
    "end;"
   ]
  },
  {
   "cell_type": "code",
   "execution_count": 35,
   "metadata": {
    "collapsed": false
   },
   "outputs": [],
   "source": [
    "function evaluate(Nx::Int, Nt::Int, lambda::Float64, deriv::Function, filename::String, fpss::Int)\n",
    "    uo, un, x = initial(Nx)\n",
    "    ##update\n",
    "    anim = @animate for j in 1:Nt\n",
    "        for i in 1:Nx\n",
    "            un[i] = uo[i] + deriv(i, lambda, uo)\n",
    "        end\n",
    "        if deriv == rightDerivFor\n",
    "            un[Nx] = un[1]\n",
    "            elseif deriv == rightDerivBack\n",
    "            un[1] = un[Nx]\n",
    "        end\n",
    "        \n",
    "        for i in 1:Nx\n",
    "            uo[i] = un[i]\n",
    "        end\n",
    "    plot(x, un, ylims = (0,1), xlims = (x[1],x[end]), leg=false)\n",
    "    end\n",
    "    fil = \"C:/Users/Christopher/Application Data/Local/Temp/\"*filename*\".gif\" \n",
    "    return gif(anim, fil, fps=fpss)\n",
    "end;"
   ]
  },
  {
   "cell_type": "code",
   "execution_count": 37,
   "metadata": {
    "collapsed": false
   },
   "outputs": [
    {
     "name": "stderr",
     "output_type": "stream",
     "text": [
      "┌ Info: Saved animation to \n",
      "│   fn = C:\\Users\\Christopher\\Application Data\\Local\\Temp\\GaussFirst.gif\n",
      "└ @ Plots C:\\Users\\Christopher\\.julia\\packages\\Plots\\rmogG\\src\\animation.jl:90\n"
     ]
    },
    {
     "data": {
      "text/html": [
       "<img src=\"..\\..\\..\\Application Data\\Local\\Temp\\GaussFirst.gif?0.9852461066373084>\" />"
      ],
      "text/plain": [
       "Plots.AnimatedGif(\"C:\\\\Users\\\\Christopher\\\\Application Data\\\\Local\\\\Temp\\\\GaussFirst.gif\")"
      ]
     },
     "execution_count": 37,
     "metadata": {},
     "output_type": "execute_result"
    }
   ],
   "source": [
    "evaluate(501, 100, -1., rightDerivBack, \"GaussFirst\", 30)"
   ]
  },
  {
   "cell_type": "code",
   "execution_count": 5,
   "metadata": {
    "collapsed": true
   },
   "outputs": [],
   "source": [
    "function evaluateBoundary(Nx::Int, Nt::Int, lambda::Float64, deriv::Function, filename::String, fpss::Int)\n",
    "    uo, un, x = initial(Nx)\n",
    "    ##update\n",
    "    anim = @animate for j in 1:Nt\n",
    "        for i in 1:Nx-1\n",
    "            un[i] = uo[i] + deriv(i, lambda, uo)\n",
    "        end\n",
    "        un[Nx] = 0\n",
    "        for i in 1:Nx\n",
    "            uo[i] = un[i]\n",
    "        end\n",
    "    plot(x, un, ylims = (0,1), xlims = (x[1],x[end]), leg=false)\n",
    "    end\n",
    "    fil = \"C:/Users/Christopher/Application Data/Local/Temp/\"*filename*\".gif\" \n",
    "    return gif(anim, fil, fps=fpss)\n",
    "end;"
   ]
  },
  {
   "cell_type": "code",
   "execution_count": 17,
   "metadata": {
    "collapsed": false
   },
   "outputs": [
    {
     "name": "stderr",
     "output_type": "stream",
     "text": [
      "┌ Info: Saved animation to \n",
      "│   fn = C:\\Users\\Christopher\\Application Data\\Local\\Temp\\rightBound.gif\n",
      "└ @ Plots C:\\Users\\Christopher\\.julia\\packages\\Plots\\rmogG\\src\\animation.jl:90\n"
     ]
    },
    {
     "data": {
      "text/html": [
       "<img src=\"..\\..\\..\\Application Data\\Local\\Temp\\rightBound.gif?0.2966437431949742>\" />"
      ],
      "text/plain": [
       "Plots.AnimatedGif(\"C:\\\\Users\\\\Christopher\\\\Application Data\\\\Local\\\\Temp\\\\rightBound.gif\")"
      ]
     },
     "execution_count": 17,
     "metadata": {},
     "output_type": "execute_result"
    }
   ],
   "source": [
    "evaluateBoundary(501, 600, 1., rightDeriv, \"rightBound\", 30)"
   ]
  },
  {
   "cell_type": "code",
   "execution_count": 4,
   "metadata": {
    "collapsed": true
   },
   "outputs": [],
   "source": [
    "function evaluateNoGIF(Nx::Int, Nt::Int, lambda::Float64, deriv::Function)\n",
    "    uo, un, x = initial(Nx)\n",
    "    store = zeros(Nt, Nx)\n",
    "    ##update\n",
    "    for j in 1:Nt\n",
    "        for i in 1:Nx-1\n",
    "            un[i] = uo[i] + deriv(i, lambda, uo)\n",
    "        end\n",
    "        un[Nx] = un[1]\n",
    "        for i in 1:Nx\n",
    "            uo[i] = un[i]\n",
    "        end\n",
    "        store[j,:] = un\n",
    "    end\n",
    "    return store\n",
    "end;"
   ]
  },
  {
   "cell_type": "code",
   "execution_count": 67,
   "metadata": {
    "collapsed": false
   },
   "outputs": [],
   "source": [
    "evaluateNoGIF(501, 200, 1., rightDerivFor);"
   ]
  },
  {
   "cell_type": "code",
   "execution_count": 5,
   "metadata": {
    "collapsed": false
   },
   "outputs": [],
   "source": [
    "function convergence(Nx::Int, Nt::Int, lambda::Float64, evaluateF::Function)\n",
    "    n=zeros(Nx)\n",
    "    d=zeros(Nx)\n",
    "    results = zeros(Nt)\n",
    "    if evaluateF == evaluateNoGIF\n",
    "        zv1 = evaluateF(Nx, Nt, lambda, rightDerivFor)\n",
    "        zv2 = evaluateF(2*Nx-1, Nt, lambda, rightDerivFor)\n",
    "        zv3 = evaluateF(4*Nx-3, Nt, lambda, rightDerivFor)\n",
    "    end\n",
    "    if evaluateF == evaluateWaveSecond\n",
    "        zv1 = evaluateF(Nx,Nt, lambda)[1]\n",
    "        zv2 = evaluateF(2*Nx-1,Nt, lambda)[1]\n",
    "        zv3 = evaluateF(4*Nx-3,Nt, lambda)[1]\n",
    "    end\n",
    "    for i in 1:Nt\n",
    "        for j in 1:Nx #since h=10/(Nx-1), we see h/2=10/((2Nx-1)-1) and h/4=10/((4*Nx-3)-1)\n",
    "            n[j] = (zv1[i,j]-zv2[i,2*j-1])^2\n",
    "            d[j] = (zv2[i,2*j-1]-zv3[i,4*j-3])^2\n",
    "        end\n",
    "        results[i] = sqrt(sum(n))/sqrt(sum(d))\n",
    "    end\n",
    "    return sum(results)/Nt\n",
    "end;"
   ]
  },
  {
   "cell_type": "code",
   "execution_count": 100,
   "metadata": {
    "collapsed": false
   },
   "outputs": [
    {
     "name": "stdout",
     "output_type": "stream",
     "text": [
      "2^q = 1.961793597129909"
     ]
    }
   ],
   "source": [
    "print(\"2^q = \", convergence(2001, 100, 1., evaluateNoGIF))"
   ]
  },
  {
   "cell_type": "markdown",
   "metadata": {},
   "source": [
    "## Next wave equation"
   ]
  },
  {
   "cell_type": "markdown",
   "metadata": {},
   "source": [
    "Here I try to solve $\\phi_{'tt}=\\phi_{'xx}$. First, let's introduce $f = \\phi_{'t}$ and $g = \\phi_{'x}$. Therefore we get $f_{'t} = g_{'x}$ as well as $g_{'t} = f_{'x}$. We use a forward derivative for the time steps. \n",
    "Therefore, we get (for timestep n, index cell J):\n",
    "\n",
    "\\begin{align*}\n",
    "\\left. f_{'t} \\right|_J^n &= \\frac{g_{J+1}^n-g_{J-1}^n}{2 \\Delta x} \\\\\n",
    "\\left. g_{'t} \\right|_J^n &= \\frac{f_{J+1}^n-f_{J-1}^n}{2 \\Delta x} \\\\\n",
    "\\Rightarrow f_J^{n+1} &= f_J^n + \\frac{\\Delta t}{2\\Delta x} (g_{J+1}^n-g_{J-1}^n) \\\\\n",
    "\\Rightarrow g_J^{n+1} &= g_J^n + \\frac{\\Delta t}{2\\Delta x} (f_{J+1}^n-f_{J-1}^n) \\\\ \\\\\n",
    "\\phi_J^{n+1} &= \\phi_J^n + \\Delta t \\cdot f_J^n = \\phi_J^n + \\Delta t \\cdot f_J^{n-1} + \\Delta t^2 \\cdot \\frac{g_{J+1}^{n-1}-g_{J-1}^{n-1}}{2 \\Delta x}\n",
    "\\end{align*}"
   ]
  },
  {
   "cell_type": "code",
   "execution_count": 60,
   "metadata": {
    "collapsed": false
   },
   "outputs": [],
   "source": [
    "#Unstable\n",
    "function evaluateWave(Nx::Int, Nt::Int, lambda::Float64)\n",
    "    store = zeros(Nt, Nx)\n",
    "    #declaration of the variables\n",
    "    go, gn, po, pn, fo, goo = zeros(Nx), zeros(Nx), zeros(Nx), zeros(Nx), initial(Nx)[1], zeros(Nx)\n",
    "    #initialization\n",
    "    foo, fn, x, deltax = initial(Nx)\n",
    "    #go[2] = go[1]\n",
    "    #go[end-1]=go[end]\n",
    "    deltat = lambda*deltax\n",
    "    # only for guassian @. go = -2*(x-5)*exp(-(x-5)^2)\n",
    "    ##update\n",
    "    for j in 1:Nt # anim = @animate\n",
    "        #update f and g\n",
    "        for i in 2:Nx-1\n",
    "            fn[i] = fo[i] + centeredDeriv(i, lambda, go)\n",
    "            gn[i] = go[i] + centeredDeriv(i, lambda, fo)\n",
    "        end\n",
    "        #HERE: one-sided derivatives at boundaries\n",
    "        #fn[1] = fo[1] + lambda*(go[2]-go[1])\n",
    "        #fn[end] = fo[end] + lambda*(go[end]-go[end-1])\n",
    "        #gn[1] = go[1] + lambda*(fo[2]-fo[1])\n",
    "        #gn[end] = go[end] + lambda*(fo[end]-fo[end-1])\n",
    "        #boundaries: p[1] = p[end] = 0\n",
    "        #fn[2] = fn[1]\n",
    "        #fn[end-1]=fn[end]  \n",
    "        #gn[1] = 0\n",
    "        #gn[end] = 0\n",
    "        #update phi\n",
    "        for i in 2:Nx-1\n",
    "            pn[i] = po[i] + deltat*fo[i]\n",
    "        end\n",
    "        pn[1] = po[1] + deltat*foo[1] + deltat^2/(deltax)*(goo[2]-goo[1])\n",
    "        pn[end] = po[end] + deltat*foo[end] + deltat^2/(deltax)*(goo[end]-goo[end-1])\n",
    "        #println(go[2], \", \", go[end-1], \", \",pn[2], \", \", pn[end-1]) #debug\n",
    "        #shift new values to old\n",
    "        foo .= fo\n",
    "        goo .= go\n",
    "        fo .= fn\n",
    "        go .= gn\n",
    "        po .= pn\n",
    "        store[j,:] = pn\n",
    "    end\n",
    "    return store, x\n",
    "end;"
   ]
  },
  {
   "cell_type": "code",
   "execution_count": 61,
   "metadata": {
    "collapsed": false,
    "scrolled": false
   },
   "outputs": [
    {
     "data": {
      "text/plain": [
       "(getfield(Main, Symbol(\"#store#8\")){Array{Float64,1}}([-4.41921e20, 6.64296e21, 2.62329e21, -1.95959e22, -5.1151e21, 3.15548e22, 7.34582e21, -4.18763e22, -9.19108e21, 4.99586e22  …  4.99586e22, -9.19108e21, -4.18763e22, 7.34582e21, 3.15548e22, -5.1151e21, -1.95959e22, 2.62329e21, 6.64296e21, -4.41921e20]), [0.0, 0.02, 0.04, 0.06, 0.08, 0.1, 0.12, 0.14, 0.16, 0.18  …  9.82, 9.84, 9.86, 9.88, 9.9, 9.92, 9.94, 9.96, 9.98, 10.0])"
      ]
     },
     "execution_count": 61,
     "metadata": {},
     "output_type": "execute_result"
    }
   ],
   "source": [
    "evaluateWave(501, 300, .9)"
   ]
  },
  {
   "cell_type": "markdown",
   "metadata": {},
   "source": [
    "Here I try an implicit Euler solution. Again, $f = \\phi_{'t}$ and $g = \\phi_{'x}$. However, $f$ and $g$ still are calculated explicitely."
   ]
  },
  {
   "cell_type": "code",
   "execution_count": 47,
   "metadata": {
    "collapsed": false
   },
   "outputs": [],
   "source": [
    "function evaluateWaveImplicit(Nx::Int, Nt::Int, lambda::Float64)\n",
    "    store = zeros(Nt, Nx)\n",
    "    #declaration of the variables\n",
    "    fo, fn, go, gn = zeros(Nx), zeros(Nx), zeros(Nx), zeros(Nx)\n",
    "    #initialization\n",
    "    po, pn, x, deltax = initial(Nx)\n",
    "    deltat = lambda*deltax\n",
    "    fo = initial(Nx)[1]\n",
    "    #@. go = -2*abs(x-5)*exp(-(x-5)^2) + 10 * exp(-25)\n",
    "    ##update\n",
    "    for j in 1:Nt #anim = @animate \n",
    "        #update f and g with FTCS\n",
    "        for i in 2:Nx-1\n",
    "            fn[i] = fo[i] + centeredDeriv(i, lambda, go)\n",
    "            gn[i] = go[i] + centeredDeriv(i, lambda, fo)\n",
    "        end\n",
    "        #HERE: one-sided derivatives at boundaries\n",
    "        gn[1] = gn[2]\n",
    "        gn[end] = gn[end-1]\n",
    "        fn[1] = fo[1] + lambda*(go[2]-go[1])\n",
    "        fn[end] = fo[end] + lambda*(go[end]-go[end-1])\n",
    "        #boundaries: p[1] = p[end] = 0\n",
    "        #fn[2] = fn[1]\n",
    "        #fn[end-1]=fn[end]  \n",
    "        #gn[1] = 0\n",
    "        #gn[end] = 0\n",
    "        #update phi\n",
    "        @. pn = po + deltat*fn\n",
    "        if pn[1] != 0 || pn[end]!=0\n",
    "            println(pn[1], \" ,\", pn[end], \" ;\", j)\n",
    "            break\n",
    "        end\n",
    "        #shift new values to old\n",
    "        po .= pn\n",
    "        fo .= fn\n",
    "        go .= gn\n",
    "        #println(go[1], \", \", go[end], \", \",pn[2], \", \", pn[end-1]) #debug\n",
    "        store[j,:] = pn\n",
    "    end\n",
    "    return store, x\n",
    "end;"
   ]
  },
  {
   "cell_type": "code",
   "execution_count": 59,
   "metadata": {
    "collapsed": false
   },
   "outputs": [
    {
     "data": {
      "text/plain": [
       "([0.0 3.07418e-12 … 3.07418e-12 0.0; 0.0 3.08032e-12 … 3.08032e-12 0.0; … ; 0.0 1.45823e-11 … 1.45823e-11 0.0; 0.0 1.48004e-11 … 1.48004e-11 0.0], [0.0, 0.02, 0.04, 0.06, 0.08, 0.1, 0.12, 0.14, 0.16, 0.18  …  9.82, 9.84, 9.86, 9.88, 9.9, 9.92, 9.94, 9.96, 9.98, 10.0])"
      ]
     },
     "execution_count": 59,
     "metadata": {},
     "output_type": "execute_result"
    }
   ],
   "source": [
    "fgSol = evaluateWaveImplicit(501, 200, .1)"
   ]
  },
  {
   "cell_type": "code",
   "execution_count": 46,
   "metadata": {
    "collapsed": false
   },
   "outputs": [
    {
     "name": "stderr",
     "output_type": "stream",
     "text": [
      "┌ Info: Saved animation to \n",
      "│   fn = C:\\Users\\Christopher\\Application Data\\Local\\Temp\\testfg.gif\n",
      "└ @ Plots C:\\Users\\Christopher\\.julia\\packages\\Plots\\rmogG\\src\\animation.jl:90\n"
     ]
    },
    {
     "data": {
      "text/html": [
       "<img src=\"..\\..\\..\\Application Data\\Local\\Temp\\testfg.gif?0.7226226924000525>\" />"
      ],
      "text/plain": [
       "Plots.AnimatedGif(\"C:\\\\Users\\\\Christopher\\\\Application Data\\\\Local\\\\Temp\\\\testfg.gif\")"
      ]
     },
     "execution_count": 46,
     "metadata": {},
     "output_type": "execute_result"
    }
   ],
   "source": [
    "createGIF(fgSol[1], fgSol[2], \"testfg\", 10)"
   ]
  },
  {
   "cell_type": "markdown",
   "metadata": {},
   "source": [
    "# New Try with second derivative operator"
   ]
  },
  {
   "cell_type": "markdown",
   "metadata": {
    "collapsed": true
   },
   "source": [
    "Okay, completely new try because that does not work out the way I want to. I'll come back to this method later.\n",
    "\n",
    "Here, I just try to implement a solution I found online that uses the second derivative operator. The function $evaluateWaveSecond$ generates a 2D array that stores the value of $\\phi$ at each point in time."
   ]
  },
  {
   "cell_type": "code",
   "execution_count": 62,
   "metadata": {
    "collapsed": false
   },
   "outputs": [],
   "source": [
    "function evaluateWaveSecond(Nx::Int, Nt::Int, lambda::Float64)\n",
    "    store = zeros(Nt, Nx)\n",
    "    #initialization\n",
    "    po = zeros(Nx)\n",
    "    poo, pn, x, deltax = initial(Nx)\n",
    "    v0 = zeros(Nx)\n",
    "    deltat = lambda*deltax\n",
    "    for i in 2:Nx-1\n",
    "        po[i] = 0.5*lambda^2*(poo[i-1]+poo[i+1])+(1-lambda^2)*poo[i]+deltat*v0[i] #version i have a calculation to\n",
    "        #po[i] = poo[i]*lambda^2 + 0.5*(1-lambda^2) * (poo[i+1]+poo[i-1])+deltat*v0[i]\n",
    "    end\n",
    "    po[1] = 0\n",
    "    po[end] = 0\n",
    "    # only for guassian @. go = -2*(x-5)*exp(-(x-5)^2)\n",
    "    ##update\n",
    "    for j in 1:Nt \n",
    "        #update f and g with FTCS\n",
    "        for i in 2:Nx-1\n",
    "            pn[i] = -poo[i] + 2*po[i]*(1-lambda^2) + lambda^2 * (po[i+1]+po[i-1])\n",
    "        end\n",
    "        pn[1] = 0\n",
    "        pn[end] = 0\n",
    "        #shift new values to old\n",
    "        plot(x, poo, ylims = (-1,1), xlims = (x[1],x[end]), leg=false)\n",
    "        poo .= po\n",
    "        po .= pn\n",
    "        store[j,:] = pn\n",
    "    end\n",
    "    return store, x\n",
    "    end;"
   ]
  },
  {
   "cell_type": "code",
   "execution_count": 64,
   "metadata": {
    "collapsed": false
   },
   "outputs": [
    {
     "data": {
      "text/plain": [
       "([0.0 4.12928e-12 … 4.12928e-12 0.0; 0.0 5.01288e-12 … 5.01288e-12 0.0; … ; 0.0 3.06799e-12 … 3.06799e-12 0.0; 0.0 3.39895e-12 … 3.39861e-12 0.0], [0.0, 0.02, 0.04, 0.06, 0.08, 0.1, 0.12, 0.14, 0.16, 0.18  …  9.82, 9.84, 9.86, 9.88, 9.9, 9.92, 9.94, 9.96, 9.98, 10.0])"
      ]
     },
     "execution_count": 64,
     "metadata": {},
     "output_type": "execute_result"
    }
   ],
   "source": [
    "sol = evaluateWaveSecond(501, 1000, 1.)"
   ]
  },
  {
   "cell_type": "code",
   "execution_count": 29,
   "metadata": {
    "collapsed": false
   },
   "outputs": [],
   "source": [
    "function createGIF(store::Array{Float64, 2}, x::Array{Float64, 1}, filename::String, fpss::Int)\n",
    "    anim = @animate for i in 1:length(store[:,1])\n",
    "        plot(x, store[i,:], ylims = (-1,1), xlims = (x[1],x[end]), leg=false)\n",
    "    end\n",
    "    fil = \"C:/Users/Christopher/Application Data/Local/Temp/\"*filename*\".gif\" \n",
    "    return gif(anim, fil, fps=fpss)\n",
    "end;"
   ]
  },
  {
   "cell_type": "code",
   "execution_count": 44,
   "metadata": {
    "collapsed": false
   },
   "outputs": [
    {
     "name": "stderr",
     "output_type": "stream",
     "text": [
      "┌ Info: Saved animation to \n",
      "│   fn = C:\\Users\\Christopher\\Application Data\\Local\\Temp\\test.gif\n",
      "└ @ Plots C:\\Users\\Christopher\\.julia\\packages\\Plots\\rmogG\\src\\animation.jl:90\n"
     ]
    },
    {
     "data": {
      "text/html": [
       "<img src=\"..\\..\\..\\Application Data\\Local\\Temp\\test.gif?0.21821121252864328>\" />"
      ],
      "text/plain": [
       "Plots.AnimatedGif(\"C:\\\\Users\\\\Christopher\\\\Application Data\\\\Local\\\\Temp\\\\test.gif\")"
      ]
     },
     "execution_count": 44,
     "metadata": {},
     "output_type": "execute_result"
    }
   ],
   "source": [
    "createGIF(sol[1], sol[2], \"test\", 10)"
   ]
  },
  {
   "cell_type": "code",
   "execution_count": 99,
   "metadata": {
    "collapsed": false
   },
   "outputs": [
    {
     "data": {
      "text/plain": [
       "1.1965998543097103"
      ]
     },
     "execution_count": 99,
     "metadata": {},
     "output_type": "execute_result"
    }
   ],
   "source": [
    "convergence(10001, 10000, 1., evaluateWaveSecond)"
   ]
  },
  {
   "cell_type": "markdown",
   "metadata": {
    "collapsed": true
   },
   "source": [
    "Ok so from now on I try to continue with the extended forumla $\\phi_{'tt} = \\phi_{'xx} - \\beta^2 \\phi$. "
   ]
  },
  {
   "cell_type": "code",
   "execution_count": 88,
   "metadata": {
    "collapsed": true
   },
   "outputs": [],
   "source": [
    "function evaluateWaveSecondNew(Nx::Int, Nt::Int, lambda::Float64, beta::Float64)\n",
    "    store = zeros(Nt, Nx)\n",
    "    #initialization\n",
    "    po = zeros(Nx)\n",
    "    poo, pn, x, deltax = initial(Nx)\n",
    "    v0 = zeros(Nx)\n",
    "    deltat = lambda*deltax\n",
    "    for i in 2:Nx-1\n",
    "        po[i] = 0.5*lambda^2*(poo[i-1]+poo[i+1])+(1-lambda^2)*poo[i]+deltat*v0[i]-deltat^2*beta^2/2*poo[i]  \n",
    "        #       as before                                                        from the added term    \n",
    "    end\n",
    "    po[1] = 0\n",
    "    po[end] = 0\n",
    "    ##update\n",
    "    for j in 1:Nt \n",
    "        #update f and g with FTCS\n",
    "        for i in 2:Nx-1\n",
    "            pn[i] = -poo[i] + 2*po[i]*(1-lambda^2) + lambda^2 * (po[i+1]+po[i-1])-deltat^2*beta^2*po[i]\n",
    "        end\n",
    "        pn[1] = 0\n",
    "        pn[end] = 0\n",
    "        #shift new values to old        \n",
    "        plot(x, poo, ylims = (-1,1), xlims = (x[1],x[end]), leg=false)\n",
    "        poo .= po\n",
    "        po .= pn\n",
    "        store[j,:] = pn\n",
    "    end\n",
    "    return store, x\n",
    "    end;"
   ]
  },
  {
   "cell_type": "code",
   "execution_count": 94,
   "metadata": {
    "collapsed": false
   },
   "outputs": [
    {
     "data": {
      "text/plain": [
       "([0.0 1.82713e-9 … 1.82713e-9 0.0; 0.0 9.93861e-9 … 9.93861e-9 0.0; … ; 0.0 0.134519 … 0.134519 0.0; 0.0 0.174464 … 0.174464 0.0], [0.0, 0.2, 0.4, 0.6, 0.8, 1.0, 1.2, 1.4, 1.6, 1.8  …  8.2, 8.4, 8.6, 8.8, 9.0, 9.2, 9.4, 9.6, 9.8, 10.0])"
      ]
     },
     "execution_count": 94,
     "metadata": {},
     "output_type": "execute_result"
    }
   ],
   "source": [
    "solNew = evaluateWaveSecondNew(51, 1000, .99, 1.)"
   ]
  },
  {
   "cell_type": "code",
   "execution_count": 95,
   "metadata": {
    "collapsed": false
   },
   "outputs": [
    {
     "name": "stderr",
     "output_type": "stream",
     "text": [
      "┌ Info: Saved animation to \n",
      "│   fn = C:\\Users\\Christopher\\Application Data\\Local\\Temp\\test.gif\n",
      "└ @ Plots C:\\Users\\Christopher\\.julia\\packages\\Plots\\rmogG\\src\\animation.jl:90\n"
     ]
    },
    {
     "data": {
      "text/html": [
       "<img src=\"..\\..\\..\\Application Data\\Local\\Temp\\test.gif?0.4826099871051084>\" />"
      ],
      "text/plain": [
       "Plots.AnimatedGif(\"C:\\\\Users\\\\Christopher\\\\Application Data\\\\Local\\\\Temp\\\\test.gif\")"
      ]
     },
     "execution_count": 95,
     "metadata": {},
     "output_type": "execute_result"
    }
   ],
   "source": [
    "createGIF(solNew[1], solNew[2], \"test\", 30)"
   ]
  },
  {
   "cell_type": "code",
   "execution_count": 80,
   "metadata": {
    "collapsed": true
   },
   "outputs": [],
   "source": [
    "function evaluateWaveSecondSin(Nx::Int, Nt::Int, lambda::Float64)\n",
    "    store = zeros(Nt, Nx)\n",
    "    #initialization\n",
    "    po = zeros(Nx)\n",
    "    poo, pn, x, deltax = initial(Nx)\n",
    "    v0 = zeros(Nx)\n",
    "    deltat = lambda*deltax\n",
    "    for i in 2:Nx-1\n",
    "        po[i] = 0.5*lambda^2*(poo[i-1]+poo[i+1])+(1-lambda^2)*poo[i]+deltat*v0[i] -deltat^2/2*sin(poo[i])   \n",
    "    end\n",
    "    po[1] = 0\n",
    "    po[end] = 0\n",
    "    ##update\n",
    "    for j in 1:Nt \n",
    "        for i in 2:Nx-1\n",
    "            pn[i] = -poo[i] + 2*po[i]*(1-lambda^2) + lambda^2 * (po[i+1]+po[i-1]) - deltat^2*sin(po[i])\n",
    "        end\n",
    "        pn[1] = 0\n",
    "        pn[end] = 0\n",
    "        #shift new values to old\n",
    "        plot(x, poo, ylims = (-1,1), xlims = (x[1],x[end]), leg=false)\n",
    "        poo .= po\n",
    "        po .= pn\n",
    "        store[j,:] = pn\n",
    "    end\n",
    "    return store, x\n",
    "    end;"
   ]
  },
  {
   "cell_type": "code",
   "execution_count": 84,
   "metadata": {
    "collapsed": false
   },
   "outputs": [
    {
     "data": {
      "text/plain": [
       "([0.0 1.07935e-10 … 1.07935e-10 0.0; 0.0 2.70171e-10 … 2.70171e-10 0.0; … ; 0.0 -0.000906597 … -0.000906597 0.0; 0.0 0.00249345 … 0.00249345 0.0], [0.0, 0.1, 0.2, 0.3, 0.4, 0.5, 0.6, 0.7, 0.8, 0.9  …  9.1, 9.2, 9.3, 9.4, 9.5, 9.6, 9.7, 9.8, 9.9, 10.0])"
      ]
     },
     "execution_count": 84,
     "metadata": {},
     "output_type": "execute_result"
    }
   ],
   "source": [
    "solSin = evaluateWaveSecondSin(101, 100, 1.)"
   ]
  },
  {
   "cell_type": "code",
   "execution_count": 81,
   "metadata": {
    "collapsed": false
   },
   "outputs": [
    {
     "name": "stderr",
     "output_type": "stream",
     "text": [
      "┌ Info: Saved animation to \n",
      "│   fn = C:\\Users\\Christopher\\Application Data\\Local\\Temp\\test.gif\n",
      "└ @ Plots C:\\Users\\Christopher\\.julia\\packages\\Plots\\rmogG\\src\\animation.jl:90\n"
     ]
    },
    {
     "data": {
      "text/html": [
       "<img src=\"..\\..\\..\\Application Data\\Local\\Temp\\test.gif?0.6440359029431144>\" />"
      ],
      "text/plain": [
       "Plots.AnimatedGif(\"C:\\\\Users\\\\Christopher\\\\Application Data\\\\Local\\\\Temp\\\\test.gif\")"
      ]
     },
     "execution_count": 81,
     "metadata": {},
     "output_type": "execute_result"
    }
   ],
   "source": [
    "createGIF(solSin[1], solSin[2], \"test\", 30)"
   ]
  },
  {
   "cell_type": "code",
   "execution_count": null,
   "metadata": {
    "collapsed": true
   },
   "outputs": [],
   "source": []
  }
 ],
 "metadata": {
  "anaconda-cloud": {},
  "kernelspec": {
   "display_name": "Julia 1.0.0",
   "language": "julia",
   "name": "julia-1.0"
  },
  "language_info": {
   "file_extension": ".jl",
   "mimetype": "application/julia",
   "name": "julia",
   "version": "1.0.0"
  }
 },
 "nbformat": 4,
 "nbformat_minor": 1
}
